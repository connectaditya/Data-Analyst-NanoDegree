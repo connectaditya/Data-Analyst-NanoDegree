{
 "cells": [
  {
   "cell_type": "markdown",
   "metadata": {},
   "source": [
    "\n",
    "\n",
    "# Project: Investigate a Dataset (<a href=\"https://www.google.com/url?q=https://d17h27t6h515a5.cloudfront.net/topher/2017/October/59dd1c4c_tmdb-movies/tmdb-movies.csv&sa=D&ust=1510938699779000&usg=AFQjCNEhCPgwHa9F0nFQ8g3mGI0qQSncxg\">TMDb Movie Data</a>)\n",
    "\n",
    "### https://github.com/connectaditya/Data-Analyst-Nanodegree/tree/master/Investigate_a_Dataset\n",
    "\n",
    "## Table of Contents\n",
    "<ul>\n",
    "<li><a href=\"#intro\">Introduction</a></li>\n",
    "<li><a href=\"#wrangling\">Data Wrangling</a></li>\n",
    "<li><a href=\"#eda\">Exploratory Data Analysis</a></li>\n",
    "<li><a href=\"#conclusions\">Conclusions</a></li>\n",
    "</ul>"
   ]
  },
  {
   "cell_type": "markdown",
   "metadata": {},
   "source": [
    "<a id='intro'></a>\n",
    "## Introduction\n",
    "#### Dataset\n",
    "> I choose the TMDb movie data set for data analysis. This data set contains information about 10,000 movies collected from The Movie Database (TMDb), including user ratings and revenue.I would like to find other intresting patterns in the dataset.\n",
    ">"
   ]
  },
  {
   "cell_type": "markdown",
   "metadata": {},
   "source": [
    "## Approach\n",
    "1.Preview and clean the data.\n",
    "\n",
    "   >Remove unnecessary information that are not useful for analysis\n",
    "   >Inspection for any null and duplicated values\n",
    "   >Change data types if needed\n",
    "\n",
    "2.Explore the data and draw conclusion to answer questions.\n",
    "\n",
    "   >Study the stats to find meaningful information.\n",
    "   >Group and filter certain data to find important patterns\n",
    "   >Plot above data and make visualization to show the results.\n"
   ]
  },
  {
   "cell_type": "code",
   "execution_count": 52,
   "metadata": {},
   "outputs": [],
   "source": [
    "# Import all libraries\n",
    "import pandas as pd\n",
    "import numpy as np\n",
    "import matplotlib.pyplot as plt\n",
    "%matplotlib inline\n",
    "import seaborn as snst\n",
    "sns.set_style('darkgrid')"
   ]
  },
  {
   "cell_type": "markdown",
   "metadata": {},
   "source": [
    "<a id='wrangling'></a>\n",
    "## Data Wrangling\n",
    "\n",
    "\n",
    "\n",
    "### General Properties"
   ]
  },
  {
   "cell_type": "code",
   "execution_count": 53,
   "metadata": {},
   "outputs": [
    {
     "data": {
      "text/html": [
       "<div>\n",
       "<style scoped>\n",
       "    .dataframe tbody tr th:only-of-type {\n",
       "        vertical-align: middle;\n",
       "    }\n",
       "\n",
       "    .dataframe tbody tr th {\n",
       "        vertical-align: top;\n",
       "    }\n",
       "\n",
       "    .dataframe thead th {\n",
       "        text-align: right;\n",
       "    }\n",
       "</style>\n",
       "<table border=\"1\" class=\"dataframe\">\n",
       "  <thead>\n",
       "    <tr style=\"text-align: right;\">\n",
       "      <th></th>\n",
       "      <th>id</th>\n",
       "      <th>imdb_id</th>\n",
       "      <th>popularity</th>\n",
       "      <th>budget</th>\n",
       "      <th>revenue</th>\n",
       "      <th>original_title</th>\n",
       "      <th>cast</th>\n",
       "      <th>homepage</th>\n",
       "      <th>director</th>\n",
       "      <th>tagline</th>\n",
       "      <th>...</th>\n",
       "      <th>overview</th>\n",
       "      <th>runtime</th>\n",
       "      <th>genres</th>\n",
       "      <th>production_companies</th>\n",
       "      <th>release_date</th>\n",
       "      <th>vote_count</th>\n",
       "      <th>vote_average</th>\n",
       "      <th>release_year</th>\n",
       "      <th>budget_adj</th>\n",
       "      <th>revenue_adj</th>\n",
       "    </tr>\n",
       "  </thead>\n",
       "  <tbody>\n",
       "    <tr>\n",
       "      <th>0</th>\n",
       "      <td>135397</td>\n",
       "      <td>tt0369610</td>\n",
       "      <td>32.985763</td>\n",
       "      <td>150000000</td>\n",
       "      <td>1513528810</td>\n",
       "      <td>Jurassic World</td>\n",
       "      <td>Chris Pratt|Bryce Dallas Howard|Irrfan Khan|Vi...</td>\n",
       "      <td>http://www.jurassicworld.com/</td>\n",
       "      <td>Colin Trevorrow</td>\n",
       "      <td>The park is open.</td>\n",
       "      <td>...</td>\n",
       "      <td>Twenty-two years after the events of Jurassic ...</td>\n",
       "      <td>124</td>\n",
       "      <td>Action|Adventure|Science Fiction|Thriller</td>\n",
       "      <td>Universal Studios|Amblin Entertainment|Legenda...</td>\n",
       "      <td>6/9/15</td>\n",
       "      <td>5562</td>\n",
       "      <td>6.5</td>\n",
       "      <td>2015</td>\n",
       "      <td>1.379999e+08</td>\n",
       "      <td>1.392446e+09</td>\n",
       "    </tr>\n",
       "    <tr>\n",
       "      <th>1</th>\n",
       "      <td>76341</td>\n",
       "      <td>tt1392190</td>\n",
       "      <td>28.419936</td>\n",
       "      <td>150000000</td>\n",
       "      <td>378436354</td>\n",
       "      <td>Mad Max: Fury Road</td>\n",
       "      <td>Tom Hardy|Charlize Theron|Hugh Keays-Byrne|Nic...</td>\n",
       "      <td>http://www.madmaxmovie.com/</td>\n",
       "      <td>George Miller</td>\n",
       "      <td>What a Lovely Day.</td>\n",
       "      <td>...</td>\n",
       "      <td>An apocalyptic story set in the furthest reach...</td>\n",
       "      <td>120</td>\n",
       "      <td>Action|Adventure|Science Fiction|Thriller</td>\n",
       "      <td>Village Roadshow Pictures|Kennedy Miller Produ...</td>\n",
       "      <td>5/13/15</td>\n",
       "      <td>6185</td>\n",
       "      <td>7.1</td>\n",
       "      <td>2015</td>\n",
       "      <td>1.379999e+08</td>\n",
       "      <td>3.481613e+08</td>\n",
       "    </tr>\n",
       "    <tr>\n",
       "      <th>2</th>\n",
       "      <td>262500</td>\n",
       "      <td>tt2908446</td>\n",
       "      <td>13.112507</td>\n",
       "      <td>110000000</td>\n",
       "      <td>295238201</td>\n",
       "      <td>Insurgent</td>\n",
       "      <td>Shailene Woodley|Theo James|Kate Winslet|Ansel...</td>\n",
       "      <td>http://www.thedivergentseries.movie/#insurgent</td>\n",
       "      <td>Robert Schwentke</td>\n",
       "      <td>One Choice Can Destroy You</td>\n",
       "      <td>...</td>\n",
       "      <td>Beatrice Prior must confront her inner demons ...</td>\n",
       "      <td>119</td>\n",
       "      <td>Adventure|Science Fiction|Thriller</td>\n",
       "      <td>Summit Entertainment|Mandeville Films|Red Wago...</td>\n",
       "      <td>3/18/15</td>\n",
       "      <td>2480</td>\n",
       "      <td>6.3</td>\n",
       "      <td>2015</td>\n",
       "      <td>1.012000e+08</td>\n",
       "      <td>2.716190e+08</td>\n",
       "    </tr>\n",
       "    <tr>\n",
       "      <th>3</th>\n",
       "      <td>140607</td>\n",
       "      <td>tt2488496</td>\n",
       "      <td>11.173104</td>\n",
       "      <td>200000000</td>\n",
       "      <td>2068178225</td>\n",
       "      <td>Star Wars: The Force Awakens</td>\n",
       "      <td>Harrison Ford|Mark Hamill|Carrie Fisher|Adam D...</td>\n",
       "      <td>http://www.starwars.com/films/star-wars-episod...</td>\n",
       "      <td>J.J. Abrams</td>\n",
       "      <td>Every generation has a story.</td>\n",
       "      <td>...</td>\n",
       "      <td>Thirty years after defeating the Galactic Empi...</td>\n",
       "      <td>136</td>\n",
       "      <td>Action|Adventure|Science Fiction|Fantasy</td>\n",
       "      <td>Lucasfilm|Truenorth Productions|Bad Robot</td>\n",
       "      <td>12/15/15</td>\n",
       "      <td>5292</td>\n",
       "      <td>7.5</td>\n",
       "      <td>2015</td>\n",
       "      <td>1.839999e+08</td>\n",
       "      <td>1.902723e+09</td>\n",
       "    </tr>\n",
       "    <tr>\n",
       "      <th>4</th>\n",
       "      <td>168259</td>\n",
       "      <td>tt2820852</td>\n",
       "      <td>9.335014</td>\n",
       "      <td>190000000</td>\n",
       "      <td>1506249360</td>\n",
       "      <td>Furious 7</td>\n",
       "      <td>Vin Diesel|Paul Walker|Jason Statham|Michelle ...</td>\n",
       "      <td>http://www.furious7.com/</td>\n",
       "      <td>James Wan</td>\n",
       "      <td>Vengeance Hits Home</td>\n",
       "      <td>...</td>\n",
       "      <td>Deckard Shaw seeks revenge against Dominic Tor...</td>\n",
       "      <td>137</td>\n",
       "      <td>Action|Crime|Thriller</td>\n",
       "      <td>Universal Pictures|Original Film|Media Rights ...</td>\n",
       "      <td>4/1/15</td>\n",
       "      <td>2947</td>\n",
       "      <td>7.3</td>\n",
       "      <td>2015</td>\n",
       "      <td>1.747999e+08</td>\n",
       "      <td>1.385749e+09</td>\n",
       "    </tr>\n",
       "  </tbody>\n",
       "</table>\n",
       "<p>5 rows × 21 columns</p>\n",
       "</div>"
      ],
      "text/plain": [
       "       id    imdb_id  popularity     budget     revenue  \\\n",
       "0  135397  tt0369610   32.985763  150000000  1513528810   \n",
       "1   76341  tt1392190   28.419936  150000000   378436354   \n",
       "2  262500  tt2908446   13.112507  110000000   295238201   \n",
       "3  140607  tt2488496   11.173104  200000000  2068178225   \n",
       "4  168259  tt2820852    9.335014  190000000  1506249360   \n",
       "\n",
       "                 original_title  \\\n",
       "0                Jurassic World   \n",
       "1            Mad Max: Fury Road   \n",
       "2                     Insurgent   \n",
       "3  Star Wars: The Force Awakens   \n",
       "4                     Furious 7   \n",
       "\n",
       "                                                cast  \\\n",
       "0  Chris Pratt|Bryce Dallas Howard|Irrfan Khan|Vi...   \n",
       "1  Tom Hardy|Charlize Theron|Hugh Keays-Byrne|Nic...   \n",
       "2  Shailene Woodley|Theo James|Kate Winslet|Ansel...   \n",
       "3  Harrison Ford|Mark Hamill|Carrie Fisher|Adam D...   \n",
       "4  Vin Diesel|Paul Walker|Jason Statham|Michelle ...   \n",
       "\n",
       "                                            homepage          director  \\\n",
       "0                      http://www.jurassicworld.com/   Colin Trevorrow   \n",
       "1                        http://www.madmaxmovie.com/     George Miller   \n",
       "2     http://www.thedivergentseries.movie/#insurgent  Robert Schwentke   \n",
       "3  http://www.starwars.com/films/star-wars-episod...       J.J. Abrams   \n",
       "4                           http://www.furious7.com/         James Wan   \n",
       "\n",
       "                         tagline  ...  \\\n",
       "0              The park is open.  ...   \n",
       "1             What a Lovely Day.  ...   \n",
       "2     One Choice Can Destroy You  ...   \n",
       "3  Every generation has a story.  ...   \n",
       "4            Vengeance Hits Home  ...   \n",
       "\n",
       "                                            overview runtime  \\\n",
       "0  Twenty-two years after the events of Jurassic ...     124   \n",
       "1  An apocalyptic story set in the furthest reach...     120   \n",
       "2  Beatrice Prior must confront her inner demons ...     119   \n",
       "3  Thirty years after defeating the Galactic Empi...     136   \n",
       "4  Deckard Shaw seeks revenge against Dominic Tor...     137   \n",
       "\n",
       "                                      genres  \\\n",
       "0  Action|Adventure|Science Fiction|Thriller   \n",
       "1  Action|Adventure|Science Fiction|Thriller   \n",
       "2         Adventure|Science Fiction|Thriller   \n",
       "3   Action|Adventure|Science Fiction|Fantasy   \n",
       "4                      Action|Crime|Thriller   \n",
       "\n",
       "                                production_companies release_date vote_count  \\\n",
       "0  Universal Studios|Amblin Entertainment|Legenda...       6/9/15       5562   \n",
       "1  Village Roadshow Pictures|Kennedy Miller Produ...      5/13/15       6185   \n",
       "2  Summit Entertainment|Mandeville Films|Red Wago...      3/18/15       2480   \n",
       "3          Lucasfilm|Truenorth Productions|Bad Robot     12/15/15       5292   \n",
       "4  Universal Pictures|Original Film|Media Rights ...       4/1/15       2947   \n",
       "\n",
       "   vote_average  release_year    budget_adj   revenue_adj  \n",
       "0           6.5          2015  1.379999e+08  1.392446e+09  \n",
       "1           7.1          2015  1.379999e+08  3.481613e+08  \n",
       "2           6.3          2015  1.012000e+08  2.716190e+08  \n",
       "3           7.5          2015  1.839999e+08  1.902723e+09  \n",
       "4           7.3          2015  1.747999e+08  1.385749e+09  \n",
       "\n",
       "[5 rows x 21 columns]"
      ]
     },
     "execution_count": 53,
     "metadata": {},
     "output_type": "execute_result"
    }
   ],
   "source": [
    "# Load your data and print out a few lines. Perform operations to inspect data\n",
    "#   types and look for instances of missing or possibly errant data.\n",
    "\n",
    "df = pd.read_csv('tmdb-movies.csv')\n",
    "df.head(5)"
   ]
  },
  {
   "cell_type": "markdown",
   "metadata": {},
   "source": [
    "\n",
    "\n",
    "### Data Cleaning (Replace this with more specific notes!)"
   ]
  },
  {
   "cell_type": "markdown",
   "metadata": {},
   "source": [
    "First step is to assess the dataset structure to gather the basic information about the data we are dealing with"
   ]
  },
  {
   "cell_type": "code",
   "execution_count": 54,
   "metadata": {},
   "outputs": [
    {
     "name": "stdout",
     "output_type": "stream",
     "text": [
      "<class 'pandas.core.frame.DataFrame'>\n",
      "RangeIndex: 10866 entries, 0 to 10865\n",
      "Data columns (total 21 columns):\n",
      " #   Column                Non-Null Count  Dtype  \n",
      "---  ------                --------------  -----  \n",
      " 0   id                    10866 non-null  int64  \n",
      " 1   imdb_id               10856 non-null  object \n",
      " 2   popularity            10866 non-null  float64\n",
      " 3   budget                10866 non-null  int64  \n",
      " 4   revenue               10866 non-null  int64  \n",
      " 5   original_title        10866 non-null  object \n",
      " 6   cast                  10790 non-null  object \n",
      " 7   homepage              2936 non-null   object \n",
      " 8   director              10822 non-null  object \n",
      " 9   tagline               8042 non-null   object \n",
      " 10  keywords              9373 non-null   object \n",
      " 11  overview              10862 non-null  object \n",
      " 12  runtime               10866 non-null  int64  \n",
      " 13  genres                10843 non-null  object \n",
      " 14  production_companies  9836 non-null   object \n",
      " 15  release_date          10866 non-null  object \n",
      " 16  vote_count            10866 non-null  int64  \n",
      " 17  vote_average          10866 non-null  float64\n",
      " 18  release_year          10866 non-null  int64  \n",
      " 19  budget_adj            10866 non-null  float64\n",
      " 20  revenue_adj           10866 non-null  float64\n",
      "dtypes: float64(4), int64(6), object(11)\n",
      "memory usage: 1.7+ MB\n"
     ]
    }
   ],
   "source": [
    "df.info()"
   ]
  },
  {
   "cell_type": "code",
   "execution_count": 55,
   "metadata": {},
   "outputs": [
    {
     "data": {
      "text/plain": [
       "(10866, 21)"
      ]
     },
     "execution_count": 55,
     "metadata": {},
     "output_type": "execute_result"
    }
   ],
   "source": [
    "df.shape"
   ]
  },
  {
   "cell_type": "markdown",
   "metadata": {},
   "source": [
    "#### Check for Missing values\n"
   ]
  },
  {
   "cell_type": "code",
   "execution_count": 56,
   "metadata": {},
   "outputs": [
    {
     "data": {
      "text/plain": [
       "id                         0\n",
       "imdb_id                   10\n",
       "popularity                 0\n",
       "budget                     0\n",
       "revenue                    0\n",
       "original_title             0\n",
       "cast                      76\n",
       "homepage                7930\n",
       "director                  44\n",
       "tagline                 2824\n",
       "keywords                1493\n",
       "overview                   4\n",
       "runtime                    0\n",
       "genres                    23\n",
       "production_companies    1030\n",
       "release_date               0\n",
       "vote_count                 0\n",
       "vote_average               0\n",
       "release_year               0\n",
       "budget_adj                 0\n",
       "revenue_adj                0\n",
       "dtype: int64"
      ]
     },
     "execution_count": 56,
     "metadata": {},
     "output_type": "execute_result"
    }
   ],
   "source": [
    "df.isnull().sum()"
   ]
  },
  {
   "cell_type": "markdown",
   "metadata": {},
   "source": [
    "#### Check for duplicated values\n"
   ]
  },
  {
   "cell_type": "code",
   "execution_count": 57,
   "metadata": {},
   "outputs": [
    {
     "data": {
      "text/plain": [
       "1"
      ]
     },
     "execution_count": 57,
     "metadata": {},
     "output_type": "execute_result"
    }
   ],
   "source": [
    "df.duplicated().sum()"
   ]
  },
  {
   "cell_type": "code",
   "execution_count": 58,
   "metadata": {},
   "outputs": [
    {
     "data": {
      "text/plain": [
       "id                      10865\n",
       "imdb_id                 10855\n",
       "popularity              10814\n",
       "budget                    557\n",
       "revenue                  4702\n",
       "original_title          10571\n",
       "cast                    10719\n",
       "homepage                 2896\n",
       "director                 5067\n",
       "tagline                  7997\n",
       "keywords                 8804\n",
       "overview                10847\n",
       "runtime                   247\n",
       "genres                   2039\n",
       "production_companies     7445\n",
       "release_date             5909\n",
       "vote_count               1289\n",
       "vote_average               72\n",
       "release_year               56\n",
       "budget_adj               2614\n",
       "revenue_adj              4840\n",
       "dtype: int64"
      ]
     },
     "execution_count": 58,
     "metadata": {},
     "output_type": "execute_result"
    }
   ],
   "source": [
    "df.nunique()"
   ]
  },
  {
   "cell_type": "markdown",
   "metadata": {},
   "source": [
    "#### Drop the  missing values\n"
   ]
  },
  {
   "cell_type": "code",
   "execution_count": 59,
   "metadata": {},
   "outputs": [
    {
     "data": {
      "text/plain": [
       "id                      0\n",
       "imdb_id                 0\n",
       "popularity              0\n",
       "budget                  0\n",
       "revenue                 0\n",
       "original_title          0\n",
       "cast                    0\n",
       "homepage                0\n",
       "director                0\n",
       "tagline                 0\n",
       "keywords                0\n",
       "overview                0\n",
       "runtime                 0\n",
       "genres                  0\n",
       "production_companies    0\n",
       "release_date            0\n",
       "vote_count              0\n",
       "vote_average            0\n",
       "release_year            0\n",
       "budget_adj              0\n",
       "revenue_adj             0\n",
       "dtype: int64"
      ]
     },
     "execution_count": 59,
     "metadata": {},
     "output_type": "execute_result"
    }
   ],
   "source": [
    "# After discussing the structure of the data and any problems that need to be\n",
    "#   cleaned, perform those cleaning steps in the second part of this section.\n",
    "\n",
    "# cleaning missing features\n",
    "df.dropna(subset=['imdb_id','cast','director','genres','homepage','tagline','keywords','production_companies'], how='any', inplace = True)\n",
    "df.isnull().sum()"
   ]
  },
  {
   "cell_type": "markdown",
   "metadata": {},
   "source": [
    "#### Remove duplicated values\n"
   ]
  },
  {
   "cell_type": "code",
   "execution_count": 60,
   "metadata": {},
   "outputs": [
    {
     "data": {
      "text/plain": [
       "0"
      ]
     },
     "execution_count": 60,
     "metadata": {},
     "output_type": "execute_result"
    }
   ],
   "source": [
    "# drop duplicates\n",
    "df = df.drop_duplicates(keep=False)\n",
    "df.duplicated().sum()"
   ]
  },
  {
   "cell_type": "markdown",
   "metadata": {},
   "source": [
    "#### Check for dataset properties after cleaning\n"
   ]
  },
  {
   "cell_type": "code",
   "execution_count": 61,
   "metadata": {},
   "outputs": [
    {
     "data": {
      "text/plain": [
       "(1992, 21)"
      ]
     },
     "execution_count": 61,
     "metadata": {},
     "output_type": "execute_result"
    }
   ],
   "source": [
    "df.shape"
   ]
  },
  {
   "cell_type": "markdown",
   "metadata": {},
   "source": [
    "#### Remove unnecessary characters from imdb_id. \n",
    "In below code, the int values from the imdb_id cells were extracted and the imdb_id column was replaced by the cleaned data of imdb_id\n"
   ]
  },
  {
   "cell_type": "code",
   "execution_count": 62,
   "metadata": {},
   "outputs": [
    {
     "data": {
      "text/html": [
       "<div>\n",
       "<style scoped>\n",
       "    .dataframe tbody tr th:only-of-type {\n",
       "        vertical-align: middle;\n",
       "    }\n",
       "\n",
       "    .dataframe tbody tr th {\n",
       "        vertical-align: top;\n",
       "    }\n",
       "\n",
       "    .dataframe thead th {\n",
       "        text-align: right;\n",
       "    }\n",
       "</style>\n",
       "<table border=\"1\" class=\"dataframe\">\n",
       "  <thead>\n",
       "    <tr style=\"text-align: right;\">\n",
       "      <th></th>\n",
       "      <th>id</th>\n",
       "      <th>imdb_id</th>\n",
       "      <th>popularity</th>\n",
       "      <th>budget</th>\n",
       "      <th>revenue</th>\n",
       "      <th>original_title</th>\n",
       "      <th>cast</th>\n",
       "      <th>homepage</th>\n",
       "      <th>director</th>\n",
       "      <th>tagline</th>\n",
       "      <th>...</th>\n",
       "      <th>overview</th>\n",
       "      <th>runtime</th>\n",
       "      <th>genres</th>\n",
       "      <th>production_companies</th>\n",
       "      <th>release_date</th>\n",
       "      <th>vote_count</th>\n",
       "      <th>vote_average</th>\n",
       "      <th>release_year</th>\n",
       "      <th>budget_adj</th>\n",
       "      <th>revenue_adj</th>\n",
       "    </tr>\n",
       "  </thead>\n",
       "  <tbody>\n",
       "    <tr>\n",
       "      <th>0</th>\n",
       "      <td>135397</td>\n",
       "      <td>369610</td>\n",
       "      <td>32.985763</td>\n",
       "      <td>150000000</td>\n",
       "      <td>1513528810</td>\n",
       "      <td>Jurassic World</td>\n",
       "      <td>Chris Pratt|Bryce Dallas Howard|Irrfan Khan|Vi...</td>\n",
       "      <td>http://www.jurassicworld.com/</td>\n",
       "      <td>Colin Trevorrow</td>\n",
       "      <td>The park is open.</td>\n",
       "      <td>...</td>\n",
       "      <td>Twenty-two years after the events of Jurassic ...</td>\n",
       "      <td>124</td>\n",
       "      <td>Action|Adventure|Science Fiction|Thriller</td>\n",
       "      <td>Universal Studios|Amblin Entertainment|Legenda...</td>\n",
       "      <td>6/9/15</td>\n",
       "      <td>5562</td>\n",
       "      <td>6.5</td>\n",
       "      <td>2015</td>\n",
       "      <td>1.379999e+08</td>\n",
       "      <td>1.392446e+09</td>\n",
       "    </tr>\n",
       "    <tr>\n",
       "      <th>1</th>\n",
       "      <td>76341</td>\n",
       "      <td>1392190</td>\n",
       "      <td>28.419936</td>\n",
       "      <td>150000000</td>\n",
       "      <td>378436354</td>\n",
       "      <td>Mad Max: Fury Road</td>\n",
       "      <td>Tom Hardy|Charlize Theron|Hugh Keays-Byrne|Nic...</td>\n",
       "      <td>http://www.madmaxmovie.com/</td>\n",
       "      <td>George Miller</td>\n",
       "      <td>What a Lovely Day.</td>\n",
       "      <td>...</td>\n",
       "      <td>An apocalyptic story set in the furthest reach...</td>\n",
       "      <td>120</td>\n",
       "      <td>Action|Adventure|Science Fiction|Thriller</td>\n",
       "      <td>Village Roadshow Pictures|Kennedy Miller Produ...</td>\n",
       "      <td>5/13/15</td>\n",
       "      <td>6185</td>\n",
       "      <td>7.1</td>\n",
       "      <td>2015</td>\n",
       "      <td>1.379999e+08</td>\n",
       "      <td>3.481613e+08</td>\n",
       "    </tr>\n",
       "    <tr>\n",
       "      <th>2</th>\n",
       "      <td>262500</td>\n",
       "      <td>2908446</td>\n",
       "      <td>13.112507</td>\n",
       "      <td>110000000</td>\n",
       "      <td>295238201</td>\n",
       "      <td>Insurgent</td>\n",
       "      <td>Shailene Woodley|Theo James|Kate Winslet|Ansel...</td>\n",
       "      <td>http://www.thedivergentseries.movie/#insurgent</td>\n",
       "      <td>Robert Schwentke</td>\n",
       "      <td>One Choice Can Destroy You</td>\n",
       "      <td>...</td>\n",
       "      <td>Beatrice Prior must confront her inner demons ...</td>\n",
       "      <td>119</td>\n",
       "      <td>Adventure|Science Fiction|Thriller</td>\n",
       "      <td>Summit Entertainment|Mandeville Films|Red Wago...</td>\n",
       "      <td>3/18/15</td>\n",
       "      <td>2480</td>\n",
       "      <td>6.3</td>\n",
       "      <td>2015</td>\n",
       "      <td>1.012000e+08</td>\n",
       "      <td>2.716190e+08</td>\n",
       "    </tr>\n",
       "    <tr>\n",
       "      <th>3</th>\n",
       "      <td>140607</td>\n",
       "      <td>2488496</td>\n",
       "      <td>11.173104</td>\n",
       "      <td>200000000</td>\n",
       "      <td>2068178225</td>\n",
       "      <td>Star Wars: The Force Awakens</td>\n",
       "      <td>Harrison Ford|Mark Hamill|Carrie Fisher|Adam D...</td>\n",
       "      <td>http://www.starwars.com/films/star-wars-episod...</td>\n",
       "      <td>J.J. Abrams</td>\n",
       "      <td>Every generation has a story.</td>\n",
       "      <td>...</td>\n",
       "      <td>Thirty years after defeating the Galactic Empi...</td>\n",
       "      <td>136</td>\n",
       "      <td>Action|Adventure|Science Fiction|Fantasy</td>\n",
       "      <td>Lucasfilm|Truenorth Productions|Bad Robot</td>\n",
       "      <td>12/15/15</td>\n",
       "      <td>5292</td>\n",
       "      <td>7.5</td>\n",
       "      <td>2015</td>\n",
       "      <td>1.839999e+08</td>\n",
       "      <td>1.902723e+09</td>\n",
       "    </tr>\n",
       "    <tr>\n",
       "      <th>4</th>\n",
       "      <td>168259</td>\n",
       "      <td>2820852</td>\n",
       "      <td>9.335014</td>\n",
       "      <td>190000000</td>\n",
       "      <td>1506249360</td>\n",
       "      <td>Furious 7</td>\n",
       "      <td>Vin Diesel|Paul Walker|Jason Statham|Michelle ...</td>\n",
       "      <td>http://www.furious7.com/</td>\n",
       "      <td>James Wan</td>\n",
       "      <td>Vengeance Hits Home</td>\n",
       "      <td>...</td>\n",
       "      <td>Deckard Shaw seeks revenge against Dominic Tor...</td>\n",
       "      <td>137</td>\n",
       "      <td>Action|Crime|Thriller</td>\n",
       "      <td>Universal Pictures|Original Film|Media Rights ...</td>\n",
       "      <td>4/1/15</td>\n",
       "      <td>2947</td>\n",
       "      <td>7.3</td>\n",
       "      <td>2015</td>\n",
       "      <td>1.747999e+08</td>\n",
       "      <td>1.385749e+09</td>\n",
       "    </tr>\n",
       "  </tbody>\n",
       "</table>\n",
       "<p>5 rows × 21 columns</p>\n",
       "</div>"
      ],
      "text/plain": [
       "       id  imdb_id  popularity     budget     revenue  \\\n",
       "0  135397   369610   32.985763  150000000  1513528810   \n",
       "1   76341  1392190   28.419936  150000000   378436354   \n",
       "2  262500  2908446   13.112507  110000000   295238201   \n",
       "3  140607  2488496   11.173104  200000000  2068178225   \n",
       "4  168259  2820852    9.335014  190000000  1506249360   \n",
       "\n",
       "                 original_title  \\\n",
       "0                Jurassic World   \n",
       "1            Mad Max: Fury Road   \n",
       "2                     Insurgent   \n",
       "3  Star Wars: The Force Awakens   \n",
       "4                     Furious 7   \n",
       "\n",
       "                                                cast  \\\n",
       "0  Chris Pratt|Bryce Dallas Howard|Irrfan Khan|Vi...   \n",
       "1  Tom Hardy|Charlize Theron|Hugh Keays-Byrne|Nic...   \n",
       "2  Shailene Woodley|Theo James|Kate Winslet|Ansel...   \n",
       "3  Harrison Ford|Mark Hamill|Carrie Fisher|Adam D...   \n",
       "4  Vin Diesel|Paul Walker|Jason Statham|Michelle ...   \n",
       "\n",
       "                                            homepage          director  \\\n",
       "0                      http://www.jurassicworld.com/   Colin Trevorrow   \n",
       "1                        http://www.madmaxmovie.com/     George Miller   \n",
       "2     http://www.thedivergentseries.movie/#insurgent  Robert Schwentke   \n",
       "3  http://www.starwars.com/films/star-wars-episod...       J.J. Abrams   \n",
       "4                           http://www.furious7.com/         James Wan   \n",
       "\n",
       "                         tagline  ...  \\\n",
       "0              The park is open.  ...   \n",
       "1             What a Lovely Day.  ...   \n",
       "2     One Choice Can Destroy You  ...   \n",
       "3  Every generation has a story.  ...   \n",
       "4            Vengeance Hits Home  ...   \n",
       "\n",
       "                                            overview runtime  \\\n",
       "0  Twenty-two years after the events of Jurassic ...     124   \n",
       "1  An apocalyptic story set in the furthest reach...     120   \n",
       "2  Beatrice Prior must confront her inner demons ...     119   \n",
       "3  Thirty years after defeating the Galactic Empi...     136   \n",
       "4  Deckard Shaw seeks revenge against Dominic Tor...     137   \n",
       "\n",
       "                                      genres  \\\n",
       "0  Action|Adventure|Science Fiction|Thriller   \n",
       "1  Action|Adventure|Science Fiction|Thriller   \n",
       "2         Adventure|Science Fiction|Thriller   \n",
       "3   Action|Adventure|Science Fiction|Fantasy   \n",
       "4                      Action|Crime|Thriller   \n",
       "\n",
       "                                production_companies release_date vote_count  \\\n",
       "0  Universal Studios|Amblin Entertainment|Legenda...       6/9/15       5562   \n",
       "1  Village Roadshow Pictures|Kennedy Miller Produ...      5/13/15       6185   \n",
       "2  Summit Entertainment|Mandeville Films|Red Wago...      3/18/15       2480   \n",
       "3          Lucasfilm|Truenorth Productions|Bad Robot     12/15/15       5292   \n",
       "4  Universal Pictures|Original Film|Media Rights ...       4/1/15       2947   \n",
       "\n",
       "   vote_average  release_year    budget_adj   revenue_adj  \n",
       "0           6.5          2015  1.379999e+08  1.392446e+09  \n",
       "1           7.1          2015  1.379999e+08  3.481613e+08  \n",
       "2           6.3          2015  1.012000e+08  2.716190e+08  \n",
       "3           7.5          2015  1.839999e+08  1.902723e+09  \n",
       "4           7.3          2015  1.747999e+08  1.385749e+09  \n",
       "\n",
       "[5 rows x 21 columns]"
      ]
     },
     "execution_count": 62,
     "metadata": {},
     "output_type": "execute_result"
    }
   ],
   "source": [
    "# remove unnecessary characters from the imdb_id column and change the column type to int\n",
    "\n",
    "df['imdb_id'] = df['imdb_id'].str.extract('(\\d+)').astype(int)\n",
    "df.head(5)"
   ]
  },
  {
   "cell_type": "markdown",
   "metadata": {},
   "source": [
    "#### Saving the cleaned dataset\n"
   ]
  },
  {
   "cell_type": "code",
   "execution_count": 63,
   "metadata": {},
   "outputs": [],
   "source": [
    "# save the cleaned data to 'clean_tmdb_movies.csv'\n",
    "df.to_csv('clean_tmdb_movies.csv', index=False)"
   ]
  },
  {
   "cell_type": "markdown",
   "metadata": {},
   "source": [
    "<a id='eda'></a>\n",
    "## Exploratory Data Analysis\n",
    "\n",
    "### Research Question 1 (What are the Top 10 Movies!)"
   ]
  },
  {
   "cell_type": "markdown",
   "metadata": {},
   "source": [
    "#### Read the clean dataset and fetch the largest 10 vote_average values to obtain the top 10 rated movies\n"
   ]
  },
  {
   "cell_type": "code",
   "execution_count": 64,
   "metadata": {},
   "outputs": [
    {
     "data": {
      "text/html": [
       "<div>\n",
       "<style scoped>\n",
       "    .dataframe tbody tr th:only-of-type {\n",
       "        vertical-align: middle;\n",
       "    }\n",
       "\n",
       "    .dataframe tbody tr th {\n",
       "        vertical-align: top;\n",
       "    }\n",
       "\n",
       "    .dataframe thead th {\n",
       "        text-align: right;\n",
       "    }\n",
       "</style>\n",
       "<table border=\"1\" class=\"dataframe\">\n",
       "  <thead>\n",
       "    <tr style=\"text-align: right;\">\n",
       "      <th></th>\n",
       "      <th>id</th>\n",
       "      <th>imdb_id</th>\n",
       "      <th>popularity</th>\n",
       "      <th>budget</th>\n",
       "      <th>revenue</th>\n",
       "      <th>original_title</th>\n",
       "      <th>cast</th>\n",
       "      <th>homepage</th>\n",
       "      <th>director</th>\n",
       "      <th>tagline</th>\n",
       "      <th>...</th>\n",
       "      <th>overview</th>\n",
       "      <th>runtime</th>\n",
       "      <th>genres</th>\n",
       "      <th>production_companies</th>\n",
       "      <th>release_date</th>\n",
       "      <th>vote_count</th>\n",
       "      <th>vote_average</th>\n",
       "      <th>release_year</th>\n",
       "      <th>budget_adj</th>\n",
       "      <th>revenue_adj</th>\n",
       "    </tr>\n",
       "  </thead>\n",
       "  <tbody>\n",
       "    <tr>\n",
       "      <th>1702</th>\n",
       "      <td>238</td>\n",
       "      <td>68646</td>\n",
       "      <td>5.738034</td>\n",
       "      <td>6000000</td>\n",
       "      <td>245066411</td>\n",
       "      <td>The Godfather</td>\n",
       "      <td>Marlon Brando|Al Pacino|James Caan|Richard S. ...</td>\n",
       "      <td>http://www.thegodfather.com/</td>\n",
       "      <td>Francis Ford Coppola</td>\n",
       "      <td>An offer you can't refuse.</td>\n",
       "      <td>...</td>\n",
       "      <td>Spanning the years 1945 to 1955, a chronicle o...</td>\n",
       "      <td>175</td>\n",
       "      <td>Drama|Crime</td>\n",
       "      <td>Paramount Pictures|Alfran Productions</td>\n",
       "      <td>3/15/72</td>\n",
       "      <td>3970</td>\n",
       "      <td>8.3</td>\n",
       "      <td>1972</td>\n",
       "      <td>3.128737e+07</td>\n",
       "      <td>1.277914e+09</td>\n",
       "    </tr>\n",
       "    <tr>\n",
       "      <th>181</th>\n",
       "      <td>244786</td>\n",
       "      <td>2582802</td>\n",
       "      <td>4.780419</td>\n",
       "      <td>3300000</td>\n",
       "      <td>13993093</td>\n",
       "      <td>Whiplash</td>\n",
       "      <td>Miles Teller|J.K. Simmons|Melissa Benoist|Aust...</td>\n",
       "      <td>http://sonyclassics.com/whiplash/</td>\n",
       "      <td>Damien Chazelle</td>\n",
       "      <td>The road to greatness can take you to the edge.</td>\n",
       "      <td>...</td>\n",
       "      <td>Under the direction of a ruthless instructor, ...</td>\n",
       "      <td>105</td>\n",
       "      <td>Drama|Music</td>\n",
       "      <td>Bold Films|Blumhouse Productions|Right of Way ...</td>\n",
       "      <td>10/10/14</td>\n",
       "      <td>2372</td>\n",
       "      <td>8.2</td>\n",
       "      <td>2014</td>\n",
       "      <td>3.039600e+06</td>\n",
       "      <td>1.288891e+07</td>\n",
       "    </tr>\n",
       "    <tr>\n",
       "      <th>717</th>\n",
       "      <td>55244</td>\n",
       "      <td>1621444</td>\n",
       "      <td>0.052322</td>\n",
       "      <td>0</td>\n",
       "      <td>1339650</td>\n",
       "      <td>Bill Cunningham New York</td>\n",
       "      <td>Bill Cunningham|Tom Wolfe|Anna Wintour|Carmen ...</td>\n",
       "      <td>http://billcunninghamnewyork.com/</td>\n",
       "      <td>Richard Press</td>\n",
       "      <td>He who seeks beauty, will find it.</td>\n",
       "      <td>...</td>\n",
       "      <td>Chronicles a man who is obsessively interested...</td>\n",
       "      <td>84</td>\n",
       "      <td>Documentary</td>\n",
       "      <td>First Thought Films</td>\n",
       "      <td>3/24/10</td>\n",
       "      <td>16</td>\n",
       "      <td>8.1</td>\n",
       "      <td>2010</td>\n",
       "      <td>0.000000e+00</td>\n",
       "      <td>1.339650e+06</td>\n",
       "    </tr>\n",
       "    <tr>\n",
       "      <th>719</th>\n",
       "      <td>550</td>\n",
       "      <td>137523</td>\n",
       "      <td>8.947905</td>\n",
       "      <td>63000000</td>\n",
       "      <td>100853753</td>\n",
       "      <td>Fight Club</td>\n",
       "      <td>Edward Norton|Brad Pitt|Meat Loaf|Jared Leto|H...</td>\n",
       "      <td>http://www.foxmovies.com/movies/fight-club</td>\n",
       "      <td>David Fincher</td>\n",
       "      <td>How much can you know about yourself if you've...</td>\n",
       "      <td>...</td>\n",
       "      <td>A ticking-time-bomb insomniac and a slippery s...</td>\n",
       "      <td>139</td>\n",
       "      <td>Drama</td>\n",
       "      <td>Regency Enterprises|Fox 2000 Pictures|Taurus F...</td>\n",
       "      <td>10/14/99</td>\n",
       "      <td>5923</td>\n",
       "      <td>8.1</td>\n",
       "      <td>1999</td>\n",
       "      <td>8.247033e+07</td>\n",
       "      <td>1.320229e+08</td>\n",
       "    </tr>\n",
       "    <tr>\n",
       "      <th>762</th>\n",
       "      <td>155</td>\n",
       "      <td>468569</td>\n",
       "      <td>8.466668</td>\n",
       "      <td>185000000</td>\n",
       "      <td>1001921825</td>\n",
       "      <td>The Dark Knight</td>\n",
       "      <td>Christian Bale|Michael Caine|Heath Ledger|Aaro...</td>\n",
       "      <td>http://thedarkknight.warnerbros.com/dvdsite/</td>\n",
       "      <td>Christopher Nolan</td>\n",
       "      <td>Why So Serious?</td>\n",
       "      <td>...</td>\n",
       "      <td>Batman raises the stakes in his war on crime. ...</td>\n",
       "      <td>152</td>\n",
       "      <td>Drama|Action|Crime|Thriller</td>\n",
       "      <td>DC Comics|Legendary Pictures|Warner Bros.|Syncopy</td>\n",
       "      <td>7/16/08</td>\n",
       "      <td>8432</td>\n",
       "      <td>8.1</td>\n",
       "      <td>2008</td>\n",
       "      <td>1.873655e+08</td>\n",
       "      <td>1.014733e+09</td>\n",
       "    </tr>\n",
       "  </tbody>\n",
       "</table>\n",
       "<p>5 rows × 21 columns</p>\n",
       "</div>"
      ],
      "text/plain": [
       "          id  imdb_id  popularity     budget     revenue  \\\n",
       "1702     238    68646    5.738034    6000000   245066411   \n",
       "181   244786  2582802    4.780419    3300000    13993093   \n",
       "717    55244  1621444    0.052322          0     1339650   \n",
       "719      550   137523    8.947905   63000000   100853753   \n",
       "762      155   468569    8.466668  185000000  1001921825   \n",
       "\n",
       "                original_title  \\\n",
       "1702             The Godfather   \n",
       "181                   Whiplash   \n",
       "717   Bill Cunningham New York   \n",
       "719                 Fight Club   \n",
       "762            The Dark Knight   \n",
       "\n",
       "                                                   cast  \\\n",
       "1702  Marlon Brando|Al Pacino|James Caan|Richard S. ...   \n",
       "181   Miles Teller|J.K. Simmons|Melissa Benoist|Aust...   \n",
       "717   Bill Cunningham|Tom Wolfe|Anna Wintour|Carmen ...   \n",
       "719   Edward Norton|Brad Pitt|Meat Loaf|Jared Leto|H...   \n",
       "762   Christian Bale|Michael Caine|Heath Ledger|Aaro...   \n",
       "\n",
       "                                          homepage              director  \\\n",
       "1702                  http://www.thegodfather.com/  Francis Ford Coppola   \n",
       "181              http://sonyclassics.com/whiplash/       Damien Chazelle   \n",
       "717              http://billcunninghamnewyork.com/         Richard Press   \n",
       "719     http://www.foxmovies.com/movies/fight-club         David Fincher   \n",
       "762   http://thedarkknight.warnerbros.com/dvdsite/     Christopher Nolan   \n",
       "\n",
       "                                                tagline  ...  \\\n",
       "1702                         An offer you can't refuse.  ...   \n",
       "181     The road to greatness can take you to the edge.  ...   \n",
       "717                  He who seeks beauty, will find it.  ...   \n",
       "719   How much can you know about yourself if you've...  ...   \n",
       "762                                     Why So Serious?  ...   \n",
       "\n",
       "                                               overview runtime  \\\n",
       "1702  Spanning the years 1945 to 1955, a chronicle o...     175   \n",
       "181   Under the direction of a ruthless instructor, ...     105   \n",
       "717   Chronicles a man who is obsessively interested...      84   \n",
       "719   A ticking-time-bomb insomniac and a slippery s...     139   \n",
       "762   Batman raises the stakes in his war on crime. ...     152   \n",
       "\n",
       "                           genres  \\\n",
       "1702                  Drama|Crime   \n",
       "181                   Drama|Music   \n",
       "717                   Documentary   \n",
       "719                         Drama   \n",
       "762   Drama|Action|Crime|Thriller   \n",
       "\n",
       "                                   production_companies release_date  \\\n",
       "1702              Paramount Pictures|Alfran Productions      3/15/72   \n",
       "181   Bold Films|Blumhouse Productions|Right of Way ...     10/10/14   \n",
       "717                                 First Thought Films      3/24/10   \n",
       "719   Regency Enterprises|Fox 2000 Pictures|Taurus F...     10/14/99   \n",
       "762   DC Comics|Legendary Pictures|Warner Bros.|Syncopy      7/16/08   \n",
       "\n",
       "     vote_count  vote_average  release_year    budget_adj   revenue_adj  \n",
       "1702       3970           8.3          1972  3.128737e+07  1.277914e+09  \n",
       "181        2372           8.2          2014  3.039600e+06  1.288891e+07  \n",
       "717          16           8.1          2010  0.000000e+00  1.339650e+06  \n",
       "719        5923           8.1          1999  8.247033e+07  1.320229e+08  \n",
       "762        8432           8.1          2008  1.873655e+08  1.014733e+09  \n",
       "\n",
       "[5 rows x 21 columns]"
      ]
     },
     "execution_count": 64,
     "metadata": {},
     "output_type": "execute_result"
    }
   ],
   "source": [
    "#Read the cleaned dataset\n",
    "df_clean = pd.read_csv('clean_tmdb_movies.csv')\n",
    "#Get a list of the top 10 movies\n",
    "df_top10 = df_clean.nlargest(10,'vote_average')\n",
    "\n",
    "df_top10.head()\n"
   ]
  },
  {
   "cell_type": "markdown",
   "metadata": {},
   "source": [
    "#### Plot the Top 10 Movies by Rating\n"
   ]
  },
  {
   "cell_type": "code",
   "execution_count": 65,
   "metadata": {},
   "outputs": [
    {
     "data": {
      "image/png": "[encoded data removed]",
      "text/plain": [
       "<Figure size 432x1080 with 1 Axes>"
      ]
     },
     "metadata": {},
     "output_type": "display_data"
    }
   ],
   "source": [
    "#Plot the top 10 movies\n",
    "sns.set(style=\"whitegrid\");\n",
    "sns.set(font_scale=2);\n",
    "f, ax = plt.subplots(figsize=(6, 15));\n",
    "ax = sns.barplot(x='vote_average', y='original_title', data=df_top10);\n",
    "\n",
    "ax.set(xlim=(7.9,8.3), ylabel=\"Movie Title\", xlabel=\"Average Rating\");\n",
    "plt.title('Top 10 Movies by Rating');"
   ]
  },
  {
   "cell_type": "markdown",
   "metadata": {},
   "source": [
    "As shown in the plot above, the top rated movie is The Godfather with a rating of 8.3"
   ]
  },
  {
   "cell_type": "markdown",
   "metadata": {},
   "source": [
    "\n",
    "### Additional Research Question  (What is the distribution of average movies ratings!)\n",
    "In addition to the Top 10 movies, it is also interesting to see the average rating of movies by count and categorize the rating given to movies.\n",
    "\n",
    "In this case i am assigning different rating category as follows:\n",
    "\n",
    "    - \"High\" to movies between max and 75% values\n",
    "    - \"Above Average\" to movies between 50% and 75% values\n",
    "    - \"Medium\" to movies between 25% and 50% values\n",
    "    - \"Low\" to movies less than 25% value\n",
    "\n",
    "A column has been added (\"movie_rating\") to store the values of the rating categories"
   ]
  },
  {
   "cell_type": "markdown",
   "metadata": {},
   "source": [
    "#### use of describe() to obtain the rating averages\n"
   ]
  },
  {
   "cell_type": "code",
   "execution_count": 66,
   "metadata": {},
   "outputs": [
    {
     "data": {
      "text/plain": [
       "count    1992.000000\n",
       "mean        6.178614\n",
       "std         0.881955\n",
       "min         2.100000\n",
       "25%         5.600000\n",
       "50%         6.200000\n",
       "75%         6.800000\n",
       "max         8.300000\n",
       "Name: vote_average, dtype: float64"
      ]
     },
     "execution_count": 66,
     "metadata": {},
     "output_type": "execute_result"
    }
   ],
   "source": [
    "#Obtain details of the vote_average edges\n",
    "df_clean.describe()['vote_average']\n"
   ]
  },
  {
   "cell_type": "markdown",
   "metadata": {},
   "source": [
    "#### Assign the bin_edges to the obtained rating averages\n",
    "#### Add a column named \"movie_rating\" to store the category of the ratings ('Low','Medium','Above Average','High')\n",
    "\n"
   ]
  },
  {
   "cell_type": "code",
   "execution_count": 67,
   "metadata": {},
   "outputs": [
    {
     "data": {
      "text/html": [
       "<div>\n",
       "<style scoped>\n",
       "    .dataframe tbody tr th:only-of-type {\n",
       "        vertical-align: middle;\n",
       "    }\n",
       "\n",
       "    .dataframe tbody tr th {\n",
       "        vertical-align: top;\n",
       "    }\n",
       "\n",
       "    .dataframe thead th {\n",
       "        text-align: right;\n",
       "    }\n",
       "</style>\n",
       "<table border=\"1\" class=\"dataframe\">\n",
       "  <thead>\n",
       "    <tr style=\"text-align: right;\">\n",
       "      <th></th>\n",
       "      <th>id</th>\n",
       "      <th>imdb_id</th>\n",
       "      <th>popularity</th>\n",
       "      <th>budget</th>\n",
       "      <th>revenue</th>\n",
       "      <th>original_title</th>\n",
       "      <th>cast</th>\n",
       "      <th>homepage</th>\n",
       "      <th>director</th>\n",
       "      <th>tagline</th>\n",
       "      <th>...</th>\n",
       "      <th>runtime</th>\n",
       "      <th>genres</th>\n",
       "      <th>production_companies</th>\n",
       "      <th>release_date</th>\n",
       "      <th>vote_count</th>\n",
       "      <th>vote_average</th>\n",
       "      <th>release_year</th>\n",
       "      <th>budget_adj</th>\n",
       "      <th>revenue_adj</th>\n",
       "      <th>movie_rating</th>\n",
       "    </tr>\n",
       "  </thead>\n",
       "  <tbody>\n",
       "    <tr>\n",
       "      <th>0</th>\n",
       "      <td>135397</td>\n",
       "      <td>369610</td>\n",
       "      <td>32.985763</td>\n",
       "      <td>150000000</td>\n",
       "      <td>1513528810</td>\n",
       "      <td>Jurassic World</td>\n",
       "      <td>Chris Pratt|Bryce Dallas Howard|Irrfan Khan|Vi...</td>\n",
       "      <td>http://www.jurassicworld.com/</td>\n",
       "      <td>Colin Trevorrow</td>\n",
       "      <td>The park is open.</td>\n",
       "      <td>...</td>\n",
       "      <td>124</td>\n",
       "      <td>Action|Adventure|Science Fiction|Thriller</td>\n",
       "      <td>Universal Studios|Amblin Entertainment|Legenda...</td>\n",
       "      <td>6/9/15</td>\n",
       "      <td>5562</td>\n",
       "      <td>6.5</td>\n",
       "      <td>2015</td>\n",
       "      <td>1.379999e+08</td>\n",
       "      <td>1.392446e+09</td>\n",
       "      <td>Above Average</td>\n",
       "    </tr>\n",
       "    <tr>\n",
       "      <th>1</th>\n",
       "      <td>76341</td>\n",
       "      <td>1392190</td>\n",
       "      <td>28.419936</td>\n",
       "      <td>150000000</td>\n",
       "      <td>378436354</td>\n",
       "      <td>Mad Max: Fury Road</td>\n",
       "      <td>Tom Hardy|Charlize Theron|Hugh Keays-Byrne|Nic...</td>\n",
       "      <td>http://www.madmaxmovie.com/</td>\n",
       "      <td>George Miller</td>\n",
       "      <td>What a Lovely Day.</td>\n",
       "      <td>...</td>\n",
       "      <td>120</td>\n",
       "      <td>Action|Adventure|Science Fiction|Thriller</td>\n",
       "      <td>Village Roadshow Pictures|Kennedy Miller Produ...</td>\n",
       "      <td>5/13/15</td>\n",
       "      <td>6185</td>\n",
       "      <td>7.1</td>\n",
       "      <td>2015</td>\n",
       "      <td>1.379999e+08</td>\n",
       "      <td>3.481613e+08</td>\n",
       "      <td>High</td>\n",
       "    </tr>\n",
       "    <tr>\n",
       "      <th>2</th>\n",
       "      <td>262500</td>\n",
       "      <td>2908446</td>\n",
       "      <td>13.112507</td>\n",
       "      <td>110000000</td>\n",
       "      <td>295238201</td>\n",
       "      <td>Insurgent</td>\n",
       "      <td>Shailene Woodley|Theo James|Kate Winslet|Ansel...</td>\n",
       "      <td>http://www.thedivergentseries.movie/#insurgent</td>\n",
       "      <td>Robert Schwentke</td>\n",
       "      <td>One Choice Can Destroy You</td>\n",
       "      <td>...</td>\n",
       "      <td>119</td>\n",
       "      <td>Adventure|Science Fiction|Thriller</td>\n",
       "      <td>Summit Entertainment|Mandeville Films|Red Wago...</td>\n",
       "      <td>3/18/15</td>\n",
       "      <td>2480</td>\n",
       "      <td>6.3</td>\n",
       "      <td>2015</td>\n",
       "      <td>1.012000e+08</td>\n",
       "      <td>2.716190e+08</td>\n",
       "      <td>Above Average</td>\n",
       "    </tr>\n",
       "    <tr>\n",
       "      <th>3</th>\n",
       "      <td>140607</td>\n",
       "      <td>2488496</td>\n",
       "      <td>11.173104</td>\n",
       "      <td>200000000</td>\n",
       "      <td>2068178225</td>\n",
       "      <td>Star Wars: The Force Awakens</td>\n",
       "      <td>Harrison Ford|Mark Hamill|Carrie Fisher|Adam D...</td>\n",
       "      <td>http://www.starwars.com/films/star-wars-episod...</td>\n",
       "      <td>J.J. Abrams</td>\n",
       "      <td>Every generation has a story.</td>\n",
       "      <td>...</td>\n",
       "      <td>136</td>\n",
       "      <td>Action|Adventure|Science Fiction|Fantasy</td>\n",
       "      <td>Lucasfilm|Truenorth Productions|Bad Robot</td>\n",
       "      <td>12/15/15</td>\n",
       "      <td>5292</td>\n",
       "      <td>7.5</td>\n",
       "      <td>2015</td>\n",
       "      <td>1.839999e+08</td>\n",
       "      <td>1.902723e+09</td>\n",
       "      <td>High</td>\n",
       "    </tr>\n",
       "    <tr>\n",
       "      <th>4</th>\n",
       "      <td>168259</td>\n",
       "      <td>2820852</td>\n",
       "      <td>9.335014</td>\n",
       "      <td>190000000</td>\n",
       "      <td>1506249360</td>\n",
       "      <td>Furious 7</td>\n",
       "      <td>Vin Diesel|Paul Walker|Jason Statham|Michelle ...</td>\n",
       "      <td>http://www.furious7.com/</td>\n",
       "      <td>James Wan</td>\n",
       "      <td>Vengeance Hits Home</td>\n",
       "      <td>...</td>\n",
       "      <td>137</td>\n",
       "      <td>Action|Crime|Thriller</td>\n",
       "      <td>Universal Pictures|Original Film|Media Rights ...</td>\n",
       "      <td>4/1/15</td>\n",
       "      <td>2947</td>\n",
       "      <td>7.3</td>\n",
       "      <td>2015</td>\n",
       "      <td>1.747999e+08</td>\n",
       "      <td>1.385749e+09</td>\n",
       "      <td>High</td>\n",
       "    </tr>\n",
       "  </tbody>\n",
       "</table>\n",
       "<p>5 rows × 22 columns</p>\n",
       "</div>"
      ],
      "text/plain": [
       "       id  imdb_id  popularity     budget     revenue  \\\n",
       "0  135397   369610   32.985763  150000000  1513528810   \n",
       "1   76341  1392190   28.419936  150000000   378436354   \n",
       "2  262500  2908446   13.112507  110000000   295238201   \n",
       "3  140607  2488496   11.173104  200000000  2068178225   \n",
       "4  168259  2820852    9.335014  190000000  1506249360   \n",
       "\n",
       "                 original_title  \\\n",
       "0                Jurassic World   \n",
       "1            Mad Max: Fury Road   \n",
       "2                     Insurgent   \n",
       "3  Star Wars: The Force Awakens   \n",
       "4                     Furious 7   \n",
       "\n",
       "                                                cast  \\\n",
       "0  Chris Pratt|Bryce Dallas Howard|Irrfan Khan|Vi...   \n",
       "1  Tom Hardy|Charlize Theron|Hugh Keays-Byrne|Nic...   \n",
       "2  Shailene Woodley|Theo James|Kate Winslet|Ansel...   \n",
       "3  Harrison Ford|Mark Hamill|Carrie Fisher|Adam D...   \n",
       "4  Vin Diesel|Paul Walker|Jason Statham|Michelle ...   \n",
       "\n",
       "                                            homepage          director  \\\n",
       "0                      http://www.jurassicworld.com/   Colin Trevorrow   \n",
       "1                        http://www.madmaxmovie.com/     George Miller   \n",
       "2     http://www.thedivergentseries.movie/#insurgent  Robert Schwentke   \n",
       "3  http://www.starwars.com/films/star-wars-episod...       J.J. Abrams   \n",
       "4                           http://www.furious7.com/         James Wan   \n",
       "\n",
       "                         tagline  ... runtime  \\\n",
       "0              The park is open.  ...     124   \n",
       "1             What a Lovely Day.  ...     120   \n",
       "2     One Choice Can Destroy You  ...     119   \n",
       "3  Every generation has a story.  ...     136   \n",
       "4            Vengeance Hits Home  ...     137   \n",
       "\n",
       "                                      genres  \\\n",
       "0  Action|Adventure|Science Fiction|Thriller   \n",
       "1  Action|Adventure|Science Fiction|Thriller   \n",
       "2         Adventure|Science Fiction|Thriller   \n",
       "3   Action|Adventure|Science Fiction|Fantasy   \n",
       "4                      Action|Crime|Thriller   \n",
       "\n",
       "                                production_companies release_date vote_count  \\\n",
       "0  Universal Studios|Amblin Entertainment|Legenda...       6/9/15       5562   \n",
       "1  Village Roadshow Pictures|Kennedy Miller Produ...      5/13/15       6185   \n",
       "2  Summit Entertainment|Mandeville Films|Red Wago...      3/18/15       2480   \n",
       "3          Lucasfilm|Truenorth Productions|Bad Robot     12/15/15       5292   \n",
       "4  Universal Pictures|Original Film|Media Rights ...       4/1/15       2947   \n",
       "\n",
       "  vote_average  release_year    budget_adj   revenue_adj   movie_rating  \n",
       "0          6.5          2015  1.379999e+08  1.392446e+09  Above Average  \n",
       "1          7.1          2015  1.379999e+08  3.481613e+08           High  \n",
       "2          6.3          2015  1.012000e+08  2.716190e+08  Above Average  \n",
       "3          7.5          2015  1.839999e+08  1.902723e+09           High  \n",
       "4          7.3          2015  1.747999e+08  1.385749e+09           High  \n",
       "\n",
       "[5 rows x 22 columns]"
      ]
     },
     "execution_count": 67,
     "metadata": {},
     "output_type": "execute_result"
    }
   ],
   "source": [
    "bin_edges = [2.1,5.6,6.2,6.8,8.3] # values of vote_averages min, 25%, 50%, 75%, max\n",
    "bin_names = ['Low','Medium','Above Average','High'] # Name of categories\n",
    "df_clean['movie_rating'] = pd.cut(df_clean['vote_average'], bin_edges, labels=bin_names)\n",
    "df_clean.head()\n",
    "\n"
   ]
  },
  {
   "cell_type": "markdown",
   "metadata": {},
   "source": [
    "#### Get the count of the movie_rating\n",
    "\n",
    "#### Plot the rating distribution using bar type and seaborn style\n"
   ]
  },
  {
   "cell_type": "code",
   "execution_count": 68,
   "metadata": {},
   "outputs": [
    {
     "data": {
      "image/png": "[encoded data removed]",
      "text/plain": [
       "<Figure size 432x288 with 1 Axes>"
      ]
     },
     "metadata": {},
     "output_type": "display_data"
    }
   ],
   "source": [
    "#Plot the rating distribution\n",
    "counts = df_clean.groupby('movie_rating').count()['genres'];\n",
    "sns.set_style(\"darkgrid\")\n",
    "sns.set(font_scale=1.5);\n",
    "counts.plot(kind = 'bar', title = 'Movies Counts by Rating');\n",
    "\n",
    "plt.xlabel('Rating', fontsize = 18);\n",
    "plt.ylabel('Count', fontsize = 18);\n",
    "plt.xticks(rotation=45);"
   ]
  },
  {
   "cell_type": "markdown",
   "metadata": {},
   "source": [
    "#### Result in text\n"
   ]
  },
  {
   "cell_type": "code",
   "execution_count": 69,
   "metadata": {},
   "outputs": [
    {
     "data": {
      "text/plain": [
       "movie_rating\n",
       "Low              499\n",
       "Medium           526\n",
       "Above Average    509\n",
       "High             457\n",
       "Name: genres, dtype: int64"
      ]
     },
     "execution_count": 69,
     "metadata": {},
     "output_type": "execute_result"
    }
   ],
   "source": [
    "df_clean.groupby('movie_rating').count()['genres']"
   ]
  },
  {
   "cell_type": "markdown",
   "metadata": {},
   "source": [
    "As shown in the plot \"Movies Counts by Rating\", the distribution of the ratings is normal"
   ]
  },
  {
   "cell_type": "markdown",
   "metadata": {},
   "source": [
    "### Research Question 2  (What is the Number of Produced Movies by Genres? What is the maximum production for each genre number in a year?)"
   ]
  },
  {
   "cell_type": "markdown",
   "metadata": {},
   "source": [
    "#### For the first question (What is the Number of Produced Movies by Genres), the genre data is separated by \"|\" which needs to be splitted in order to further explore the answer\n",
    "#### The mechanisim to perform the split is as follows:\n",
    "#### 1. Create a dataset with the genre data splitted (\"s\")\n",
    "#### 2. Create a copy of the original dataset (\"df_new\")\n",
    "#### 3. Delete the column \"genre\" in the created copy\n",
    "#### 4. Join the created copy with the splittd data\n",
    "#### 5. Plot the count of genre per year (\"chart_df\")\n"
   ]
  },
  {
   "cell_type": "code",
   "execution_count": 70,
   "metadata": {},
   "outputs": [
    {
     "name": "stderr",
     "output_type": "stream",
     "text": [
      "C:\\Users\\Aadi\\anaconda3\\lib\\site-packages\\seaborn\\categorical.py:3669: UserWarning: The `factorplot` function has been renamed to `catplot`. The original name will be removed in a future release. Please update your code. Note that the default `kind` in `factorplot` (`'point'`) has changed `'strip'` in `catplot`.\n",
      "  warnings.warn(msg)\n",
      "C:\\Users\\Aadi\\anaconda3\\lib\\site-packages\\seaborn\\categorical.py:3675: UserWarning: The `size` parameter has been renamed to `height`; please update your code.\n",
      "  warnings.warn(msg, UserWarning)\n"
     ]
    },
    {
     "data": {
      "text/plain": [
       "Text(0.5, 0.98, '# of Movies by Genres Per Year')"
      ]
     },
     "execution_count": 70,
     "metadata": {},
     "output_type": "execute_result"
    },
    {
     "data": {
      "image/png": "[encoded data removed]",
      "text/plain": [
       "<Figure size 834.35x720 with 1 Axes>"
      ]
     },
     "metadata": {},
     "output_type": "display_data"
    }
   ],
   "source": [
    "\n",
    "from pandas import Series\n",
    "import numpy as np\n",
    "#expand the genres column to rows since the genres of each movie is stored in one cell and separated by '|'\n",
    "s = df_clean['genres'].str.split('|').apply(Series, 1).stack()\n",
    "s.index = s.index.droplevel(-1)\n",
    "s.name = 'genres'\n",
    "\n",
    "df_new = df_clean.copy() # create a copy of the df_clean dataset \n",
    "del df_new['genres']\n",
    "\n",
    "df = df_new.join(s)\n",
    "\n",
    "chart_df = df.groupby(['genres', 'release_year']).count()['director'].reset_index(name=\"count\")\n",
    "#chart_df = df.groupby('genres').count()['director'].reset_index(name=\"count\")\n",
    "\n",
    "sns.set(style=\"whitegrid\");\n",
    "\n",
    "#Plot \n",
    "g = sns.factorplot(x='release_year', y='count', hue='genres', data=chart_df.query('release_year >= 2010'),\n",
    "                   size=10, kind=\"bar\", palette=\"muted\");\n",
    "g.despine(left=True);\n",
    "#g.set_title(\"Movies by Genres\", fontsize=22, fontweight=\"bold\")\n",
    "g.set_ylabels(\"Count\");\n",
    "g.set_xlabels(\"Release Year\");\n",
    "g.fig.suptitle('# of Movies by Genres Per Year')\n"
   ]
  },
  {
   "cell_type": "markdown",
   "metadata": {},
   "source": [
    "The above chart shows produced movies per genre per year, which is very difficult to read.\n",
    "to further investigate the genre numbers, the below chart shows the total count of every genre produced across the dataset"
   ]
  },
  {
   "cell_type": "markdown",
   "metadata": {},
   "source": [
    "#### For more clarity and making the data easier to read, another chart is plotted below which shows the movies counts by genre"
   ]
  },
  {
   "cell_type": "code",
   "execution_count": 71,
   "metadata": {},
   "outputs": [
    {
     "data": {
      "image/png": "[encoded data removed]",
      "text/plain": [
       "<Figure size 432x288 with 1 Axes>"
      ]
     },
     "metadata": {},
     "output_type": "display_data"
    }
   ],
   "source": [
    "chart2_df = df.groupby('genres').count()['director']\n",
    "sns.set_style(\"darkgrid\")\n",
    "sns.set(font_scale=1.5);\n",
    "chart2_df.plot(kind = 'bar', title = 'Movies Counts by Genre');\n",
    "\n",
    "plt.xlabel('Genre', fontsize = 18);\n",
    "plt.ylabel('Count', fontsize = 18);\n",
    "plt.xticks(rotation=90);"
   ]
  },
  {
   "cell_type": "markdown",
   "metadata": {},
   "source": [
    "#### For the second question (What is the maximum production for each genre number in a year), a genre count was created using the idxmax() method to get the maximum number of the produced movie in a given year\n",
    "#### A heatmap plot is used to illustrate the results"
   ]
  },
  {
   "cell_type": "code",
   "execution_count": 72,
   "metadata": {},
   "outputs": [
    {
     "data": {
      "text/plain": [
       "Text(0.5, 57.5, 'Release Year')"
      ]
     },
     "execution_count": 72,
     "metadata": {},
     "output_type": "execute_result"
    },
    {
     "data": {
      "image/png": "[encoded data removed]",
      "text/plain": [
       "<Figure size 648x648 with 2 Axes>"
      ]
     },
     "metadata": {},
     "output_type": "display_data"
    }
   ],
   "source": [
    "# get the maximum counts per genre per year\n",
    "genres_count = chart_df.loc[chart_df.groupby(['genres'])['count'].idxmax()]\n",
    "\n",
    "sns.set(style=\"darkgrid\")\n",
    "\n",
    "genres = genres_count.pivot(\"genres\", \"release_year\", \"count\")\n",
    "\n",
    "# Draw a heatmap with the numeric values in each cell\n",
    "f, ax = plt.subplots(figsize=(9, 9))\n",
    "g = sns.heatmap(genres, annot=True,  linewidths=0.5, ax=ax)\n",
    "g.set_title(\"Number of Movies by Genres by Year\", fontsize=22, fontweight=\"bold\")\n",
    "g.set_ylabel(\"Genres\", fontsize=12, fontweight=\"bold\")\n",
    "g.set_xlabel(\"Release Year\", fontsize=12, fontweight=\"bold\")"
   ]
  },
  {
   "cell_type": "markdown",
   "metadata": {},
   "source": [
    "From the heatmap \"Number of Movies by Genres by Year\", the highiest genre of movies produced was Drama which was in 2010. the lowest genre of procedured movies was Foreign which was in 2007 "
   ]
  },
  {
   "cell_type": "markdown",
   "metadata": {},
   "source": [
    "###### <a id='conclusions'></a>\n",
    "## Conclusions\n",
    "\n",
    "#### Summary\n",
    "> **From the investegated data set \"TMDb Movie Data\", the follwing questions were explored:**\n",
    "\n",
    "> 1. What are the Top 10 Movies by Rating?\n",
    "\n",
    "> 2. What is the distribution of average movies ratings?\n",
    "\n",
    "> 3. What is the Number of Produced Movies by Genres?\n",
    "\n",
    "> 4. What is the maximum production for each genre number in a year?\n",
    "\n",
    "> **Data Wrangling:**\n",
    "\n",
    "> * Features with missing values were cleaned:\n",
    "    - imdb_id\n",
    "    - cast\n",
    "    - homepage\n",
    "    - director\n",
    "    - tagline\n",
    "    - keywords\n",
    "    - overview\n",
    "    - genres\n",
    "    - production_companies\n",
    "* 1 duplicated row was removed\n",
    "* imdb_id data was cleaned by removing the unnecessary characters (tt)\n",
    "* A new column \"movie_rating\" was added to store the data of the rating category (Low/Medium/Above Average/High)\n",
    "* A clean dataset was saved in \"clean_tmdb_movies.csv\" \n",
    "* Data of the genres were expanded to split the values of the genre which were stored in cells separated by \"|\" to answer questions 3 and 4\n",
    "\n",
    "\n",
    "There are some potential limitations to the analysis presented in this work and there are some potential areas were the given data could be explored such as:\n",
    "* The correlation between high budget movies and given rating. Does highly budgeted movies always get high ratings?\n",
    "\n",
    "#### Analysis vs. Results\n",
    "\n",
    ">The analysis presented in this work sheet did answer my posed questions, I have included the answers to those questions in text below:\n",
    "\n",
    ">**1. What are the Top 10 Movies by Rating?**\n",
    "\n",
    ">        1. The Godfather\n",
    "        2. Whiplash\n",
    "        3. Bill Cunningham New York\n",
    "        4. Fight Club\n",
    "        5. The Dark Knight\n",
    "        6. Kill Bill: The Whole Bloody Affair\n",
    "        7. Schindler's List\n",
    "        8. Inside Out\n",
    "        9. Room\n",
    "        10.Intersteller\n",
    "\n",
    ">**2. What is the distribution of average movies ratings?**\n",
    "\n",
    ">        The average rating is fairly distributed among the different rating categories (High, Above Average, Medium, Low)\n",
    ">        On average,\n",
    ">        Low              499 Movies\n",
    ">        Medium           526 Movies\n",
    ">        Above Average    509 Movies\n",
    ">        High             457 Movies\n",
    "        \n",
    ">**3. What is the Number of Produced Movies by Genres?**\n",
    "\n",
    ">     For this question, the cells containig genres was splitted to rows since genres was stored in one cell \n",
    ">     separated by '|'.\n",
    ">     The chart \"# of Movies by Genres Per Year\" has been customized to show the counts for 5 years (2010-2015).\n",
    ">     The chart is too condensed and very difficult to read. However, another chart was plotted to show the number of \n",
    ">     produced moveis. Result is below:\n",
    "     \n",
    "        \n",
    ">        Action             532\n",
    ">        Adventure          361\n",
    ">        Animation          170\n",
    ">        Comedy             640\n",
    ">        Crime              262\n",
    ">        Documentary         93\n",
    ">        Drama              838\n",
    ">        Family             233\n",
    ">        Fantasy            202\n",
    ">        Foreign              6\n",
    ">        History             56\n",
    ">        Horror             273\n",
    ">        Music               72\n",
    ">        Mystery            148\n",
    ">        Romance            291\n",
    ">        Science Fiction    291\n",
    ">        TV Movie            16\n",
    ">        Thriller           575\n",
    ">        War                 44\n",
    ">        Western             20\n",
    "\n",
    ">**4. What is the maximum production for each genre number in a year?**\n",
    "\n",
    ">        As shown in the heatmap plot, there were:\n",
    "        \n",
    ">        Action Movies were highly produced in 2011 (60 Movies)\n",
    ">        Adventure Movies were highly produced in 2010 (32 Movies)\n",
    ">        Animation Movies were highly produced in 2009 (20 Movies)\n",
    ">        Comedy Movies were highly produced in 2007 (75 Movies)\n",
    ">        Crime Movies were highly produced in 2009 (24 Movies)\n",
    ">        Documentary Movies were highly produced in 2010 (14 Movies)\n",
    ">        Drama Movies were highly produced in 2010 (99 Movies)\n",
    ">        Family Movies were highly produced in 2009 (24 Movies)\n",
    ">        Foreign Movies were highly produced in 2007 (2 Movies)\n",
    ">        History Movies were highly produced in 2015 (8 Movies)\n",
    ">        Horror Movies were highly produced in 2010 (35 Movies)\n",
    ">        Music Movies were highly produced in 2013 (9 Movies)\n",
    ">        Mystery Movies were highly produced in 2009 (18 Movies)\n",
    ">        Romance Movies were highly produced in 2009 (37 Movies)\n",
    ">        Science Fiction Movies were highly produced in 2015 (35 Movies)\n",
    ">        TV Movie Movies were highly produced in 2013 (4 Movies)\n",
    ">        Thriller Movies were highly produced in 2011 (64 Movies)\n",
    ">        War Movies were highly produced in 2014 (7 Movies)\n",
    ">        Western Movies were highly produced in 2010 (5 Movies)\n",
    "        "
   ]
  },
  {
   "cell_type": "code",
   "execution_count": 73,
   "metadata": {},
   "outputs": [
    {
     "data": {
      "text/plain": [
       "0"
      ]
     },
     "execution_count": 73,
     "metadata": {},
     "output_type": "execute_result"
    }
   ],
   "source": [
    "from subprocess import call\n",
    "call(['python', '-m', 'nbconvert', 'Investigate_a_Dataset.ipynb'])"
   ]
  },
  {
   "cell_type": "code",
   "execution_count": null,
   "metadata": {},
   "outputs": [],
   "source": []
  }
 ],
 "metadata": {
  "kernelspec": {
   "display_name": "Python 3",
   "language": "python",
   "name": "python3"
  },
  "language_info": {
   "codemirror_mode": {
    "name": "ipython",
    "version": 3
   },
   "file_extension": ".py",
   "mimetype": "text/x-python",
   "name": "python",
   "nbconvert_exporter": "python",
   "pygments_lexer": "ipython3",
   "version": "3.7.6"
  }
 },
 "nbformat": 4,
 "nbformat_minor": 2
}
